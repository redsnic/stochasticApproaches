{
 "cells": [
  {
   "cell_type": "markdown",
   "metadata": {},
   "source": [
    "# Homework 5 (Nicolo' Rossi)"
   ]
  },
  {
   "cell_type": "code",
   "execution_count": 860,
   "metadata": {},
   "outputs": [],
   "source": [
    "# imports\n",
    "import random\n",
    "import math\n",
    "import numpy as np\n",
    "from scipy.stats import expon\n",
    "from scipy.stats import poisson\n",
    "import matplotlib.pyplot as plt\n",
    "from scipy.linalg import expm\n",
    "from math import comb\n",
    "from tqdm import tqdm\n",
    "\n",
    "\n",
    "# from older homeworks\n",
    "\n",
    "def draw_poisson(lmd):\n",
    "    if (lmd > 0):\n",
    "        return -math.log(1-random.uniform(0,1))/lmd\n",
    "    return float('inf')\n",
    "\n",
    "def poisson_process(lmd, time):\n",
    "    out = 0\n",
    "    while True:\n",
    "        step = expon.rvs(lmd)\n",
    "        time -= step\n",
    "        if time < 0:\n",
    "            break\n",
    "        out += 1\n",
    "    return out\n",
    "\n",
    "def var(x): # sample variance\n",
    "    mean_x = sum(x)/len(x)\n",
    "    return sum([ (x_i - mean_x)**2 for x_i in x ])/(len(x)-1)\n",
    "\n",
    "def mean(x):\n",
    "    return sum(x)/len(x)"
   ]
  },
  {
   "cell_type": "markdown",
   "metadata": {},
   "source": [
    "### Reaction network\n",
    "\n",
    "We start by providing an implementation for a general reaction network "
   ]
  },
  {
   "cell_type": "code",
   "execution_count": 861,
   "metadata": {},
   "outputs": [],
   "source": [
    "\n",
    "class ReactionNetwork():\n",
    "\n",
    "    def __init__(self):\n",
    "        # state\n",
    "        self.reactions = []\n",
    "        self.state = np.array([]).astype(int)\n",
    "        self.species = {} # name to index\n",
    "        self.indexes = [] # index to name\n",
    "        self.nextindex = 0\n",
    "        # aux data structures\n",
    "        self.sotchiometric_matrix = None\n",
    "        self.propensities = None\n",
    "        self.history = None\n",
    "\n",
    "    def add_reaction(self, from_, to_, rate_):\n",
    "        '''\n",
    "        from_ and to_ are lists of pairs (what, stochiometric coef.)\n",
    "        '''\n",
    "        self.reactions.append((from_, to_, rate_))\n",
    "        for s,_ in from_ + to_:\n",
    "            self._add_species(s)\n",
    "            \n",
    "\n",
    "    def _add_species(self, s):\n",
    "        \"\"\"\n",
    "        private function to ad a specie to the reaction network\n",
    "        \"\"\"\n",
    "        try:\n",
    "            self.species[s]\n",
    "        except KeyError:\n",
    "            self.species[s] = self.nextindex\n",
    "            self.indexes.append(s)\n",
    "            self.state = np.append(self.state, 0)\n",
    "            self.nextindex += 1\n",
    "    \n",
    "\n",
    "    def set_initial_state(self, species):\n",
    "        \"\"\"\n",
    "        setup the initial state of the network\n",
    "        \"\"\"\n",
    "        self.clear_state()\n",
    "        for s,q in species:\n",
    "            try:\n",
    "                self.state[self.species[s]] = q\n",
    "            except KeyError:\n",
    "                # might be reasonable to keep track of reactants that are not involved in any reaction\n",
    "                raise Exception(f'No reaction with species {s} found. please define your reaction network first')\n",
    "\n",
    "\n",
    "    def clear_state(self):\n",
    "        \"\"\"\n",
    "        set all species to 0\n",
    "        \"\"\"\n",
    "        self.state = np.zeros_like(self.state)\n",
    "\n",
    "\n",
    "    def compute_stochiometric_matrix(self):\n",
    "        \"\"\"\n",
    "        elaborate the reaction network to compute the stochiometric matrix\n",
    "        \"\"\"\n",
    "        m = []\n",
    "        for (from_, to_, _) in self.reactions:\n",
    "            # for efficiency, the construction of the stochiometric matrix is done\n",
    "            # with a merge procedure\n",
    "            from_ = sorted(from_)\n",
    "            to_ = sorted(to_)\n",
    "            i = 0\n",
    "            j = 0\n",
    "            vector_dict = {}\n",
    "            while i < len(from_) or j < len(to_):\n",
    "                if i == len(from_):\n",
    "                    vector_dict[to_[j][0]] = to_[j][1]\n",
    "                    j += 1\n",
    "                elif j == len(to_):\n",
    "                    vector_dict[from_[i][0]] = -from_[i][1]\n",
    "                    i += 1\n",
    "                else:\n",
    "                    if from_[i][0] == to_[j][0]:\n",
    "                        vector_dict[from_[i][0]] = to_[j][1]-from_[i][1]\n",
    "                        i += 1\n",
    "                        j += 1\n",
    "                    elif from_[i][0] < to_[j][0]:\n",
    "                        vector_dict[from_[i][0]] = -from_[i][1]\n",
    "                        i += 1\n",
    "                    else:\n",
    "                        vector_dict[to_[j][0]] = to_[j][1]\n",
    "                        j += 1\n",
    "            m.append(self.convert_vector_dict(vector_dict))\n",
    "        return np.array(m).T\n",
    "            \n",
    "\n",
    "    def convert_vector_dict(self, vector_dict):\n",
    "        \"\"\"\n",
    "        convert species' vector to dictionary\n",
    "        \"\"\"\n",
    "        v = [0 for _ in range(len(self.species))]\n",
    "        for s, k in vector_dict.items():\n",
    "            v[self.species[s]] = k\n",
    "        return v\n",
    "\n",
    "\n",
    "    def compute_propensities(self):\n",
    "        \"\"\"\n",
    "        compute the propensity function using the current state\n",
    "        \"\"\"\n",
    "        propensities = []\n",
    "        for (from_, _, rate) in self.reactions:\n",
    "            prop = rate\n",
    "            for s, q in from_:\n",
    "                prop *= comb(self.state[self.species[s]], q)\n",
    "            propensities.append(prop)\n",
    "        return np.array(propensities)\n",
    "\n",
    "\n",
    "    def initialize(self, force=False):\n",
    "        '''\n",
    "        setup internal matrices and propensities\n",
    "        '''\n",
    "        self.stochiometric_matrix = self.compute_stochiometric_matrix()\n",
    "        self.propensities = self.compute_propensities()\n",
    "        if force or self.history is None:\n",
    "            self.history = History(self.species, self.indexes)\n",
    "        else:\n",
    "            self.history.clear()\n",
    "\n",
    "\n",
    "    def reset(self, species, force=False):\n",
    "        \"\"\"\n",
    "        reset the network to a specific state\n",
    "        \"\"\"\n",
    "        self.set_initial_state(species)\n",
    "        self.initialize(force=force)\n",
    "\n",
    "\n",
    "    def __str__(self):\n",
    "        s = 'Reaction Network\\n'\n",
    "        for (from_, to_, rate) in self.reactions:\n",
    "            s += f'{from_} -- {rate} -- > {to_}\\n'\n",
    "        s += '\\n'\n",
    "        s += 'Initial state\\n'\n",
    "        s += f'{self.species}\\n'\n",
    "        s += 'Stochiometric matrix\\n'\n",
    "        s += f'{self.stochiometric_matrix}\\n'\n",
    "        s += 'Initial propensities\\n'\n",
    "        s += f'{self.propensities}\\n'\n",
    "        return s\n",
    "\n",
    "    def apply_reaction(self, reaction_index, times=1):\n",
    "        \"\"\"\n",
    "        apply a specific reaction to the state\n",
    "        \"\"\"\n",
    "        self.state = self.state + self.stochiometric_matrix[:,reaction_index]*times\n",
    "    \n",
    "    # --- FR ---\n",
    "\n",
    "    def simulate_FR(self, t_fin):\n",
    "        t = 0\n",
    "        self.history.record((self.state, t))\n",
    "        while True:\n",
    "            samples = np.array([ (float('inf') if prop == 0 else expon.rvs(scale = 1/prop)) for prop in self.propensities ])\n",
    "            delta_time = np.min(samples)\n",
    "            t += delta_time\n",
    "            if t > t_fin:\n",
    "                break\n",
    "            firing_reaction = np.argmin(samples)\n",
    "            self.apply_reaction(firing_reaction)\n",
    "            self.propensities = self.compute_propensities()\n",
    "            self.history.record((self.state, t))\n",
    "        self.history.save()\n",
    "\n",
    "    # --- SSA ---\n",
    "\n",
    "    def simulate_SSA(self, t_fin):\n",
    "        t = 0\n",
    "        self.history.record((self.state, t))\n",
    "        while True:\n",
    "            w_0 = np.sum(self.propensities)\n",
    "            \n",
    "            t += float('inf') if w_0 <= 0 else expon.rvs(scale = 1 / (w_0))\n",
    "            if t > t_fin:\n",
    "                break\n",
    "            firing_reaction = weighted_pick(self.propensities, w_0)\n",
    "            self.apply_reaction(firing_reaction)\n",
    "            self.propensities = self.compute_propensities()\n",
    "            self.history.record((self.state, t))\n",
    "        self.history.save()\n",
    "\n",
    "    # --- RTC --- \n",
    "\n",
    "    def simulate_RTC_decrement_times(self, t_fin):\n",
    "        t = 0\n",
    "        self.history.record((self.state, t))\n",
    "        poisson_times = [ expon.rvs() for _ in range(len(self.reactions)) ]\n",
    "\n",
    "        old_propensities = [self.propensities]\n",
    "        while True: \n",
    "            # simulate progression\n",
    "            true_times = np.array([ compute_real_time_step(self.propensities[i], np.array(poisson_times[i]) ) for i in range(len(self.reactions)) ]) \n",
    "            firing_reaction =  np.argmin( true_times )\n",
    "            t += np.min( true_times )\n",
    "            if t > t_fin:\n",
    "                break\n",
    "            \n",
    "            # update times\n",
    "            poisson_times = [poisson_times[i] - np.min( true_times )*self.propensities[i] for i in range(len(poisson_times))]\n",
    "            poisson_times[firing_reaction] = expon.rvs()\n",
    "            \n",
    "            # update state\n",
    "            self.apply_reaction(firing_reaction)\n",
    "            self.propensities = self.compute_propensities()\n",
    "            old_propensities.append(self.propensities)\n",
    "            self.history.record((self.state, t))\n",
    "        self.history.save()\n",
    "\n",
    "\n",
    "    def simulate_RTC(self, t_fin):\n",
    "            t = 0\n",
    "            self.history.record((self.state, t))\n",
    "            poisson_times = [ expon.rvs() for _ in range(len(self.reactions)) ]\n",
    "            old_values = np.array([0 for _ in self.reactions])\n",
    "            old_propensities = [self.propensities]\n",
    "            while True: \n",
    "                # simulate progression\n",
    "                true_times = np.array([ compute_real_time(self.propensities[i], np.array(poisson_times[i]), old_values[i]) for i in range(len(self.reactions)) ]) \n",
    "                firing_reaction =  np.argmin( true_times )\n",
    "                delta_t = np.min( true_times )\n",
    "                t += delta_t\n",
    "                if t > t_fin:\n",
    "                    break\n",
    "                # update value for each reaction\n",
    "                old_values = old_values + self.propensities*delta_t\n",
    "                # update times\n",
    "                poisson_times[firing_reaction] += expon.rvs()\n",
    "                # update state\n",
    "                self.apply_reaction(firing_reaction)\n",
    "                self.propensities = self.compute_propensities()\n",
    "                old_propensities.append(self.propensities)\n",
    "                self.history.record((self.state, t))\n",
    "            self.history.save()\n",
    "\n",
    "\n",
    "    def simulate_RTC_classic(self, t_fin):\n",
    "        t = 0\n",
    "        self.history.record((self.state, t))\n",
    "        poisson_times = [ expon.rvs() for _ in range(len(self.reactions)) ]\n",
    "        jumps = []\n",
    "        old_propensities = [self.propensities]\n",
    "        while True: \n",
    "            # simulate progression\n",
    "            true_times = np.array([ RTC_integral([ p[i] for p in old_propensities ], np.array(poisson_times[i]), jumps) for i in range(len(self.reactions)) ]) \n",
    "            firing_reaction =  np.argmin( true_times )\n",
    "            delta_t = np.min( true_times )\n",
    "            t += delta_t\n",
    "            if t > t_fin:\n",
    "                break\n",
    "            # update times\n",
    "            poisson_times[firing_reaction] += expon.rvs()\n",
    "            # update state\n",
    "            self.apply_reaction(firing_reaction)\n",
    "            self.propensities = self.compute_propensities()\n",
    "            old_propensities.append(self.propensities)\n",
    "            self.history.record((self.state, t))\n",
    "        self.history.save()\n",
    "\n",
    "    # --- TL --- (tau leap)\n",
    "\n",
    "    def simulate_TL(self, t_fin, time_step=0.1):\n",
    "        t = 0\n",
    "        self.history.record((self.state, t))\n",
    "        while True:\n",
    "            t += time_step\n",
    "            if t > t_fin:\n",
    "                break\n",
    "            \n",
    "            N = np.array([ 0 if self.propensities[i] == 0 else poisson.rvs(self.propensities[i]*time_step) for i in range(len(self.reactions)) ]).astype('int')\n",
    "\n",
    "            # the order is randomized to avoid order dependencies in the reactions\n",
    "            ordering = list(range(len(self.reactions))) \n",
    "            random.shuffle(ordering)\n",
    "            for i in ordering:  \n",
    "                # forcifully avoid applying more reactions than possible\n",
    "                n = min( [N[i]] + [min([ math.floor(self.state[self.species[s]]/qt) for s,qt in self.reactions[i][0] ])])\n",
    "                self.apply_reaction(i, times = n)\n",
    "\n",
    "            self.propensities = self.compute_propensities()\n",
    "            self.history.record((self.state, t))\n",
    "        self.history.save()\n",
    "\n",
    "# --- RTC aux functions ---\n",
    "\n",
    "def RTC_integral(propensities, time, jumps):\n",
    "    base_height = 0 if len(jumps) == 0 else sum(np.array(jumps)*np.array(propensities[:len(propensities)-1]))\n",
    "    time -= base_height\n",
    "    return sum(jumps) + (float('inf') if propensities[-1] == 0 else time/propensities[-1])\n",
    "        \n",
    "\n",
    "def compute_real_time_step(propensity, poisson_time):\n",
    "    return (float('inf') if propensity == 0 else poisson_time/propensity)\n",
    "\n",
    "\n",
    "# old_value + t*prop = tau --> (tau-old_value)/prop\n",
    "def compute_real_time(propensity, poisson_time, old_value):\n",
    "    return (float('inf') if propensity == 0 else (poisson_time - old_value)/propensity)\n",
    "\n",
    "\n",
    "def compute_time_integral(old_propensities, elapsed_intervals, i):\n",
    "    return sum([ (float('inf') if elapsed_intervals[k][i] == float('inf') else old_propensities[k][i]*elapsed_intervals[k][i]) for k in range(len(old_propensities)) ])\n",
    "    \n",
    "# --- SSA aux functions ---\n",
    "\n",
    "def weighted_pick(l, norm):\n",
    "    index = 0\n",
    "    value = 0\n",
    "    selector = random.uniform(0,1)\n",
    "    l = l/norm\n",
    "    while True:\n",
    "        if value + l[index] >= selector:\n",
    "            return index\n",
    "        value += l[index]\n",
    "        index += 1\n",
    "\n"
   ]
  },
  {
   "cell_type": "code",
   "execution_count": 862,
   "metadata": {},
   "outputs": [],
   "source": [
    "class History():\n",
    "\n",
    "    def __init__(self, species, indexes):\n",
    "        self.simulations = []\n",
    "        self.events = []\n",
    "        self.species = species\n",
    "        self.indexes = indexes\n",
    "\n",
    "    def record(self, event):\n",
    "        \"\"\"\n",
    "        record a state in the history \n",
    "        \"\"\"\n",
    "        self.events.append(event)\n",
    "\n",
    "    def save(self):\n",
    "        \"\"\"\n",
    "        end state recording for a simulation and store it. \n",
    "        \"\"\"\n",
    "        self.simulations.append(self.events)\n",
    "        self.events = []\n",
    "\n",
    "    def clear(self):\n",
    "        \"\"\"\n",
    "        clear the event queue\n",
    "        \"\"\"\n",
    "        self.events = []\n",
    "\n",
    "    def state_at(self, time, species=None):\n",
    "        \"\"\"\n",
    "        get last state before {time} for each run and selected {species}\n",
    "        \"\"\"\n",
    "        if species is None: # plot all species\n",
    "            species = [k for k,v in self.species.items()]\n",
    "\n",
    "        state_at_time = [ [ v for (v,t) in events if t < time ][-1] for events in self.simulations ]\n",
    "        species_at_time = {}\n",
    "        for s in species:\n",
    "            species_at_time[s] = [ st[self.species[s]] for st in state_at_time ]\n",
    "        return species_at_time\n",
    "\n",
    "    def plot_at(self, time, species=None):\n",
    "        \"\"\"\n",
    "        plot last state before {time} for selected {species}\n",
    "        \"\"\"\n",
    "        if species is None: # plot all species\n",
    "            species = [k for k,v in self.species.items()]\n",
    "\n",
    "        state_at_time = [ [ v for (v,t) in events if t < time ][-1] for events in self.simulations ]\n",
    "\n",
    "        species_at_time = {}\n",
    "        all_values = []\n",
    "        for s in species:\n",
    "            species_at_time[s] = [ st[self.species[s]] for st in state_at_time ]\n",
    "            all_values += species_at_time[s]\n",
    "\n",
    "        # prepare plot range\n",
    "        bins=[x for x in range(max(all_values))]\n",
    "        # prepare histogram\n",
    "        plt.hist([v for k,v in species_at_time.items()], bins, label=[k for k,v in species_at_time.items()], alpha = 0.5, edgecolor='black', density = True)\n",
    "        plt.title(f\"Reaction network simulation at time {time}\")\n",
    "        plt.ylabel(\"Couts\")\n",
    "        plt.xlabel(\"Process outcome\")\n",
    "        plt.legend(title='Time')\n",
    "        plt.show()\n",
    "\n",
    "    def plot_through(self, times, species=None):\n",
    "        \"\"\"\n",
    "        plot states and uncertainty at {times} for selected {species}\n",
    "        \"\"\"\n",
    "        if species is None: # plot all species\n",
    "            species = [k for k,v in self.species.items()]\n",
    "\n",
    "        sectors = []\n",
    "        for time in times:\n",
    "            sectors.append([ [ v for (v,t) in events if t < time ][-1] for events in self.simulations ])\n",
    "\n",
    "        species_at_time = {}\n",
    "        for s in species:\n",
    "            species_at_time[s] = [ [st[self.species[s]] for st in sec] for sec in sectors ]\n",
    "\n",
    "\n",
    "\n",
    "        for k,v in species_at_time.items():\n",
    "            plt.errorbar(times, [mean(pt) for pt in v], yerr=[math.sqrt(var(pt)) for pt in v], label=k, alpha = 0.9)\n",
    "\n",
    "        plt.title(f\"Reaction network simulation, species through time\")\n",
    "        plt.ylabel(\"Quantity\")\n",
    "        plt.xlabel(\"Time\")\n",
    "        plt.legend(title='Time')\n",
    "        plt.show()\n",
    "\n",
    "    def plot_cloud(self, alpha=0.01, species=None):\n",
    "        \"\"\"\n",
    "        visualize all the states as a scatterplot for selected {species}\n",
    "        \"\"\"\n",
    "\n",
    "        if species is None: # plot all species\n",
    "            species = [k for k,v in self.species.items()]\n",
    "\n",
    "\n",
    "        species_counts = {}\n",
    "        species_times = {}\n",
    "        for s in species:\n",
    "            species_counts[s] = sum([ [st[self.species[s]] for st, _ in run] for run in self.simulations ], [])\n",
    "            species_times[s] = sum([ [t for _, t in run] for run in self.simulations ], [])\n",
    "\n",
    "        for k,v in species_counts.items():\n",
    "            plt.scatter(species_times[k], v, label=k, alpha = alpha)\n",
    "\n",
    "        plt.title(f\"Reaction network simulation, species through time\")\n",
    "        plt.ylabel(\"Quantity\")\n",
    "        plt.xlabel(\"Time\")\n",
    "        plt.legend(title='Time')\n",
    "        plt.show()"
   ]
  },
  {
   "cell_type": "markdown",
   "metadata": {},
   "source": [
    "We can use these objects to model any reaction network:"
   ]
  },
  {
   "cell_type": "code",
   "execution_count": 863,
   "metadata": {},
   "outputs": [
    {
     "name": "stdout",
     "output_type": "stream",
     "text": [
      "Reaction Network\n",
      "[] -- 4 -- > [('mRNA', 1)]\n",
      "[('mRNA', 1)] -- 1 -- > []\n",
      "\n",
      "Initial state\n",
      "{'mRNA': 0}\n",
      "Stochiometric matrix\n",
      "[[ 1 -1]]\n",
      "Initial propensities\n",
      "[4 0]\n",
      "\n"
     ]
    }
   ],
   "source": [
    "# input data\n",
    "b = 4\n",
    "d = 1\n",
    "\n",
    "# making the network\n",
    "\n",
    "rn = ReactionNetwork()\n",
    "rn.add_reaction([], [('mRNA', 1)], b)\n",
    "rn.add_reaction([('mRNA', 1)], [], d)\n",
    "initial_state = [('mRNA', 0)]\n",
    "rn.set_initial_state(initial_state)\n",
    "rn.initialize()\n",
    "\n",
    "print(rn)"
   ]
  },
  {
   "cell_type": "markdown",
   "metadata": {},
   "source": [
    "Now we define the network for this exercise:"
   ]
  },
  {
   "cell_type": "code",
   "execution_count": 864,
   "metadata": {},
   "outputs": [
    {
     "name": "stdout",
     "output_type": "stream",
     "text": [
      "Reaction Network\n",
      "[('X', 1)] -- 1 -- > [('Y', 1)]\n",
      "[('Y', 1)] -- 1 -- > [('X', 1)]\n",
      "[('X', 2)] -- 2 -- > [('Z', 1)]\n",
      "[('X', 2)] -- 2 -- > [('Z', 1)]\n",
      "[('X', 1), ('W', 1)] -- 0.1 -- > [('X', 2)]\n",
      "[('X', 2)] -- 0.1 -- > [('X', 1), ('W', 1)]\n",
      "\n",
      "Initial state\n",
      "{'X': 0, 'Y': 1, 'Z': 2, 'W': 3}\n",
      "Stochiometric matrix\n",
      "[[-1  1 -2 -2  1 -1]\n",
      " [ 1 -1  0  0  0  0]\n",
      " [ 0  0  1  1  0  0]\n",
      " [ 0  0  0  0 -1  1]]\n",
      "Initial propensities\n",
      "[ 20.   0. 380. 380.  20.  19.]\n",
      "\n"
     ]
    }
   ],
   "source": [
    "# input data\n",
    "c1 = 1\n",
    "c2 = 1\n",
    "c3 = 2 \n",
    "c4 = 2 \n",
    "c5 = 0.1\n",
    "c6 = 0.1\n",
    "\n",
    "# making the network\n",
    "\n",
    "rn = ReactionNetwork()\n",
    "rn.add_reaction([('X', 1)], [('Y', 1)], c1)\n",
    "rn.add_reaction([('Y', 1)], [('X', 1)], c2)\n",
    "rn.add_reaction([('X', 2)], [('Z', 1)], c3)\n",
    "rn.add_reaction([('X', 2)], [('Z', 1)], c4)\n",
    "rn.add_reaction([('X', 1), ('W', 1)], [('X', 2)], c5)\n",
    "rn.add_reaction([('X', 2)], [('X', 1), ('W', 1)], c6)\n",
    "initial_state = [('X', 20), ('Y', 0), ('Z', 0), ('W', 10)]\n",
    "rn.set_initial_state(initial_state)\n",
    "rn.initialize()\n",
    "\n",
    "print(rn)"
   ]
  },
  {
   "cell_type": "markdown",
   "metadata": {},
   "source": [
    "### First Reaction"
   ]
  },
  {
   "cell_type": "code",
   "execution_count": 875,
   "metadata": {},
   "outputs": [
    {
     "name": "stderr",
     "output_type": "stream",
     "text": [
      "100%|██████████| 10000/10000 [00:51<00:00, 193.88it/s]\n"
     ]
    },
    {
     "name": "stdout",
     "output_type": "stream",
     "text": [
      "X: 0.4626\n",
      "Y: 0.6475\n",
      "Z: 9.937\n",
      "W: 9.0159\n"
     ]
    },
    {
     "data": {
      "image/png": "[encoded data removed]",
      "text/plain": [
       "<Figure size 432x288 with 1 Axes>"
      ]
     },
     "metadata": {
      "needs_background": "light"
     },
     "output_type": "display_data"
    }
   ],
   "source": [
    "limit = 1\n",
    "reps = 10000\n",
    "\n",
    "for i in tqdm(range(reps)):\n",
    "    rn.simulate_FR(limit)\n",
    "    rn.reset(initial_state)\n",
    "\n",
    "for k, v in rn.history.state_at(limit).items():\n",
    "    print(f\"{k}: {mean(v)}\")\n",
    "\n",
    "rn.history.plot_through(np.linspace(0.01,1,10))\n",
    "\n",
    "rn.reset(initial_state, force=True)"
   ]
  },
  {
   "cell_type": "markdown",
   "metadata": {},
   "source": [
    "### Gillespie's Direct Method"
   ]
  },
  {
   "cell_type": "code",
   "execution_count": 876,
   "metadata": {},
   "outputs": [
    {
     "name": "stderr",
     "output_type": "stream",
     "text": [
      "100%|██████████| 10000/10000 [00:15<00:00, 664.97it/s]\n"
     ]
    },
    {
     "name": "stdout",
     "output_type": "stream",
     "text": [
      "X: 0.4667\n",
      "Y: 0.6359\n",
      "Z: 9.9361\n",
      "W: 9.0252\n"
     ]
    },
    {
     "data": {
      "image/png": "[encoded data removed]",
      "text/plain": [
       "<Figure size 432x288 with 1 Axes>"
      ]
     },
     "metadata": {
      "needs_background": "light"
     },
     "output_type": "display_data"
    }
   ],
   "source": [
    "for i in tqdm(range(reps)):\n",
    "    rn.simulate_SSA(limit)\n",
    "    rn.reset(initial_state)\n",
    "\n",
    "for k, v in rn.history.state_at(limit).items():\n",
    "    print(f\"{k}: {mean(v)}\")\n",
    "\n",
    "rn.history.plot_through(np.linspace(0.01,1,10))\n",
    "\n",
    "rn.reset(initial_state, force=True)"
   ]
  },
  {
   "cell_type": "markdown",
   "metadata": {},
   "source": [
    "### Next Reaction Method"
   ]
  },
  {
   "cell_type": "code",
   "execution_count": 877,
   "metadata": {},
   "outputs": [
    {
     "name": "stderr",
     "output_type": "stream",
     "text": [
      "100%|██████████| 10000/10000 [00:22<00:00, 436.83it/s]\n"
     ]
    },
    {
     "name": "stdout",
     "output_type": "stream",
     "text": [
      "X: 0.4628\n",
      "Y: 0.6417\n",
      "Z: 9.9255\n",
      "W: 9.0445\n"
     ]
    },
    {
     "data": {
      "image/png": "[encoded data removed]",
      "text/plain": [
       "<Figure size 432x288 with 1 Axes>"
      ]
     },
     "metadata": {
      "needs_background": "light"
     },
     "output_type": "display_data"
    }
   ],
   "source": [
    "for i in tqdm(range(reps)):\n",
    "    rn.simulate_RTC(limit)\n",
    "    rn.reset(initial_state)\n",
    "\n",
    "for k, v in rn.history.state_at(limit).items():\n",
    "    print(f\"{k}: {mean(v)}\")\n",
    "\n",
    "rn.history.plot_through(np.linspace(0.01,1,10))\n",
    "\n",
    "rn.reset(initial_state, force=True)"
   ]
  },
  {
   "cell_type": "markdown",
   "metadata": {},
   "source": [
    "### $\\tau$-leap ($\\tau$=0.01)"
   ]
  },
  {
   "cell_type": "code",
   "execution_count": 878,
   "metadata": {},
   "outputs": [
    {
     "name": "stderr",
     "output_type": "stream",
     "text": [
      "100%|██████████| 10000/10000 [03:37<00:00, 45.91it/s]\n"
     ]
    },
    {
     "name": "stdout",
     "output_type": "stream",
     "text": [
      "X: 0.3581\n",
      "Y: 0.4671\n",
      "Z: 9.9081\n",
      "W: 9.3586\n"
     ]
    },
    {
     "data": {
      "image/png": "[encoded data removed]",
      "text/plain": [
       "<Figure size 432x288 with 1 Axes>"
      ]
     },
     "metadata": {
      "needs_background": "light"
     },
     "output_type": "display_data"
    }
   ],
   "source": [
    "for i in tqdm(range(reps)):\n",
    "    rn.simulate_TL(limit, time_step=0.01)\n",
    "    rn.reset(initial_state)\n",
    "\n",
    "for k, v in rn.history.state_at(limit).items():\n",
    "    print(f\"{k}: {mean(v)}\")\n",
    "\n",
    "rn.history.plot_through(np.linspace(0.01,1,10))\n",
    "\n",
    "rn.reset(initial_state, force=True)"
   ]
  },
  {
   "cell_type": "markdown",
   "metadata": {},
   "source": [
    "### $\\tau$-leap ($\\tau$=0.1)"
   ]
  },
  {
   "cell_type": "code",
   "execution_count": 879,
   "metadata": {},
   "outputs": [
    {
     "name": "stderr",
     "output_type": "stream",
     "text": [
      "100%|██████████| 10000/10000 [00:18<00:00, 531.47it/s]\n"
     ]
    },
    {
     "name": "stdout",
     "output_type": "stream",
     "text": [
      "X: 0.2758\n",
      "Y: 0.459\n",
      "Z: 9.797\n",
      "W: 9.6712\n"
     ]
    },
    {
     "data": {
      "image/png": "[encoded data removed]",
      "text/plain": [
       "<Figure size 432x288 with 1 Axes>"
      ]
     },
     "metadata": {
      "needs_background": "light"
     },
     "output_type": "display_data"
    }
   ],
   "source": [
    "for i in tqdm(range(reps)):\n",
    "    rn.simulate_TL(limit, time_step=0.1)\n",
    "    rn.reset(initial_state)\n",
    "\n",
    "for k, v in rn.history.state_at(limit).items():\n",
    "    print(f\"{k}: {mean(v)}\")\n",
    "\n",
    "rn.history.plot_through(np.linspace(0.001,1,10))\n",
    "\n",
    "rn.reset(initial_state, force=True)"
   ]
  },
  {
   "cell_type": "markdown",
   "metadata": {},
   "source": [
    "### $\\tau$-leap ($\\tau$=0.001)"
   ]
  },
  {
   "cell_type": "code",
   "execution_count": 880,
   "metadata": {},
   "outputs": [
    {
     "name": "stderr",
     "output_type": "stream",
     "text": [
      "100%|██████████| 1000/1000 [04:33<00:00,  3.66it/s]\n"
     ]
    },
    {
     "name": "stdout",
     "output_type": "stream",
     "text": [
      "X: 0.438\n",
      "Y: 0.676\n",
      "Z: 9.907\n",
      "W: 9.072\n"
     ]
    },
    {
     "data": {
      "image/png": "[encoded data removed]",
      "text/plain": [
       "<Figure size 432x288 with 1 Axes>"
      ]
     },
     "metadata": {
      "needs_background": "light"
     },
     "output_type": "display_data"
    }
   ],
   "source": [
    "limit = 1\n",
    "reps = 1000\n",
    "\n",
    "for i in tqdm(range(reps)):\n",
    "    rn.simulate_TL(limit, time_step=0.001)\n",
    "    rn.reset(initial_state)\n",
    "\n",
    "for k, v in rn.history.state_at(limit).items():\n",
    "    print(f\"{k}: {mean(v)}\")\n",
    "\n",
    "rn.history.plot_through(np.linspace(0.01,1,10))\n",
    "\n",
    "rn.reset(initial_state, force=True)"
   ]
  },
  {
   "cell_type": "markdown",
   "metadata": {},
   "source": [
    "Note that compute times are the first number between the square brakets after the progress bar.\n",
    "\n",
    "Error bars in these plots are symmetric and have the value of the standard deviation at that time point. \n",
    "Negative values are not possible but the error bars do not keep that into account. \n",
    "\n",
    "The redution in the accuracy of the $\\tau$-leap method is due to the fact that there is no update in the propensity functions through the whole $\\tau$-interval, making the simulation less\n",
    "reactive to changes in the number of species."
   ]
  }
 ],
 "metadata": {
  "interpreter": {
   "hash": "aee8b7b246df8f9039afb4144a1f6fd8d2ca17a180786b69acc140d282b71a49"
  },
  "kernelspec": {
   "display_name": "Python 3.9.10 64-bit",
   "language": "python",
   "name": "python3"
  },
  "language_info": {
   "codemirror_mode": {
    "name": "ipython",
    "version": 3
   },
   "file_extension": ".py",
   "mimetype": "text/x-python",
   "name": "python",
   "nbconvert_exporter": "python",
   "pygments_lexer": "ipython3",
   "version": "3.10.4"
  },
  "orig_nbformat": 4
 },
 "nbformat": 4,
 "nbformat_minor": 2
}
